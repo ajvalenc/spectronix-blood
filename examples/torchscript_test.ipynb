{
 "cells": [
  {
   "cell_type": "code",
   "execution_count": 56,
   "id": "00147658-d596-4243-80af-6d70a72986c1",
   "metadata": {},
   "outputs": [],
   "source": [
    "import time\n",
    "\n",
    "import cv2\n",
    "import torch\n",
    "import torch.nn as nn\n",
    "from torchvision.io import read_image\n",
    "from torchvision.datasets import ImageFolder\n",
    "from torchvision.transforms import Compose, ToTensor\n",
    "\n",
    "from yolort.utils import Visualizer\n",
    "\n",
    "from PIL import Image\n",
    "import numpy as np"
   ]
  },
  {
   "cell_type": "code",
   "execution_count": 6,
   "id": "6b5548dd-724d-4151-b8c5-370b2cc4d990",
   "metadata": {},
   "outputs": [],
   "source": [
    "# configuration\n",
    "device = torch.device(\"cuda:0\" if torch.cuda.is_available() else \"cpu\")\n",
    "use_cuda = False if str(device) == \"cpu\" else True\n",
    "weights_bcls = \"/home/ajvalenc/OneDrive - University of Ottawa/Projects/spectronix/detection_models/blood/weights/torchscript/traced_bcls-{}.pt\".format(device).replace(\":0\",\"\")\n",
    "weights_bdet = \"/home/ajvalenc/OneDrive - University of Ottawa/Projects/spectronix/detection_models/blood/weights/torchscript/traced_bdet-{}.pt\".format(device).replace(\":0\",\"\")\n",
    "weights_fdet = \"/home/ajvalenc/OneDrive - University of Ottawa/Projects/spectronix/detection_models/blood/weights/torchscript/traced_fdet-{}.pt\".format(device).replace(\":0\",\"\")"
   ]
  },
  {
   "cell_type": "code",
   "execution_count": 15,
   "id": "979774d1-d6ee-40be-b713-0181ee621618",
   "metadata": {},
   "outputs": [
    {
     "name": "stdout",
     "output_type": "stream",
     "text": [
      "Loading binary model...\n",
      "Binary model loaded successfully\n",
      "Loading detection model...\n",
      "Detection model loaded successfully\n",
      "Loading detection model...\n",
      "Detection model loaded successfully\n"
     ]
    }
   ],
   "source": [
    "# load torchscript models \n",
    "print(\"Loading binary model...\")\n",
    "model_bcls = torch.jit.load(weights_bcls)\n",
    "print(\"Binary model loaded successfully\")\n",
    "\n",
    "print(\"Loading detection model...\")\n",
    "model_bdet = torch.jit.load(weights_bdet)\n",
    "print(\"Detection model loaded successfully\")\n",
    "\n",
    "print(\"Loading detection model...\")\n",
    "model_fdet = torch.jit.load(weights_fdet)\n",
    "print(\"Detection model loaded successfully\")"
   ]
  },
  {
   "cell_type": "code",
   "execution_count": 105,
   "id": "9b703094",
   "metadata": {},
   "outputs": [],
   "source": [
    "# input data and transform (using opencv)\n",
    "#filename = \"/home/ajvalenc/Datasets/spectronix/thermal/reference/T_IM_45.png\"\n",
    "filename = \"/home/ajvalenc/Datasets/spectronix/thermal/blood/16bit/s01_thermal_cloth_01_MicroCalibir_M0000334/0001.png\"\n",
    "img = cv2.imread(filename,cv2.IMREAD_ANYDEPTH) #input"
   ]
  },
  {
   "cell_type": "code",
   "execution_count": 109,
   "id": "dfed37d3",
   "metadata": {},
   "outputs": [],
   "source": [
    "def sixteen_bits2eight_bits(pixel):\n",
    "    # Pseudo colouring the 16 bit images\n",
    "    pixel = (pixel - np.min(pixel)) / (30100-np.min(pixel))\n",
    "    pixel = np.rint(pixel * 255)\n",
    "    return pixel.astype(\"uint8\")"
   ]
  },
  {
   "cell_type": "code",
   "execution_count": 111,
   "id": "5712e933-7da0-4de5-872e-7dec34723c8a",
   "metadata": {},
   "outputs": [],
   "source": [
    "# conversion\n",
    "img = sixteen_bits2eight_bits(img)\n",
    "\n",
    "# channels\n",
    "img = cv2.cvtColor(img, cv2.COLOR_GRAY2BGR)\n",
    "\n",
    "img = torch.as_tensor(img.astype(\"float32\").transpose(2,0,1)).to(device)\n",
    "img /= 255.\n",
    "img = img.unsqueeze(0)"
   ]
  },
  {
   "cell_type": "code",
   "execution_count": 112,
   "id": "3a62be6a-0373-478f-b45c-2a2b6ff7698a",
   "metadata": {},
   "outputs": [],
   "source": [
    "# dry run\n",
    "for i in range(5):\n",
    "    model_bcls(img)\n",
    "    model_bdet(img)\n",
    "    model_fdet(img)"
   ]
  },
  {
   "cell_type": "code",
   "execution_count": 113,
   "id": "9afe93c3-ef25-40d0-ac82-659f4ac2179d",
   "metadata": {},
   "outputs": [
    {
     "name": "stdout",
     "output_type": "stream",
     "text": [
      "Blood classification runtime [ms]:  1496.6378211975098\n",
      "Blood detection runtime [ms]:  244.30060386657715\n",
      "Face detection runtime [ms]:  211.52639389038086\n"
     ]
    }
   ],
   "source": [
    "with torch.no_grad(): #ensures autograd is off\n",
    "    start = time.time()\n",
    "    out_bcls = model_bcls(img)\n",
    "    end = time.time()\n",
    "    print(\"Blood classification runtime [ms]: \", 1000*(end-start))\n",
    "\n",
    "    start = time.time()\n",
    "    out_bdet = model_bdet(img)\n",
    "    end = time.time()\n",
    "    print(\"Blood detection runtime [ms]: \", 1000*(end-start))\n",
    "\n",
    "    start = time.time()\n",
    "    out_fdet = model_fdet(img)\n",
    "    end = time.time()\n",
    "    print(\"Face detection runtime [ms]: \", 1000*(end-start))"
   ]
  },
  {
   "cell_type": "code",
   "execution_count": 115,
   "id": "9e62f6c4-0f23-4946-a02a-248de7fd3e34",
   "metadata": {},
   "outputs": [
    {
     "name": "stdout",
     "output_type": "stream",
     "text": [
      "Output bdet: {'scores': tensor([0.85037, 0.68136]), 'labels': tensor([0, 1]), 'boxes': tensor([[446.11957, 334.78891, 492.61072, 443.46506],\n",
      "        [187.64490, 286.04041, 246.92917, 357.55988]])}\n",
      "Output fdet: {'scores': tensor([0.83816]), 'labels': tensor([0]), 'boxes': tensor([[189.75500,  83.40294, 223.09647, 123.40352]])}\n"
     ]
    }
   ],
   "source": [
    "print(\"Output bdet:\", out_bdet[1][0])\n",
    "print(\"Output fdet:\", out_fdet[1][0])"
   ]
  },
  {
   "cell_type": "code",
   "execution_count": 116,
   "id": "dc9b8d3e",
   "metadata": {},
   "outputs": [],
   "source": [
    "def visualize(image, normalize=False):\n",
    "\n",
    "    if normalize:\n",
    "        image = cv2.normalize(image, None, 0, 255, norm_type=cv2.NORM_MINMAX, dtype=cv2.CV_8U) \n",
    "\n",
    "    # rescale (16-bit image only) see method 2 https://answers.opencv.org/question/207313/conversion-16bit-image-to-8-bit-image/\n",
    "    if (image.dtype) == np.uint16:\n",
    "        image = image / 257\n",
    "        image = image.astype(np.uint8)\n",
    "\n",
    "    #cv2.normalize(image, None, 0, 255, norm_type=cv2.NORM_MINMAX, dtype=cv2.CV_8U) \n",
    "    \n",
    "    image = cv2.cvtColor(image, cv2.COLOR_BGR2RGB)\n",
    "\n",
    "    return image"
   ]
  },
  {
   "cell_type": "code",
   "execution_count": 117,
   "id": "169d84a8-b34d-4471-acfa-da850e138c3b",
   "metadata": {},
   "outputs": [
    {
     "data": {
      "image/png": "[encoded data removed]",
      "text/plain": [
       "<PIL.Image.Image image mode=RGB size=320x240>"
      ]
     },
     "metadata": {},
     "output_type": "display_data"
    }
   ],
   "source": [
    "# verify results\n",
    "img_raw = cv2.imread(filename) #original\n",
    "v = Visualizer(visualize(img_raw, True), [\"Cold_Background\", \"Cold_Body\", \"Warm_Background\", \"Warm_Body\", \"Warm_Dripping\"])\n",
    "v.draw_instance_predictions(out_bdet[1][0])\n",
    "v.imshow(scale=0.5)"
   ]
  },
  {
   "cell_type": "code",
   "execution_count": 118,
   "id": "da89d468-89dc-40cc-b40a-4ccbb73d6fbd",
   "metadata": {},
   "outputs": [
    {
     "data": {
      "image/png": "[encoded data removed]",
      "text/plain": [
       "<PIL.Image.Image image mode=RGB size=320x240>"
      ]
     },
     "metadata": {},
     "output_type": "display_data"
    }
   ],
   "source": [
    "# verify results\n",
    "img_raw = cv2.imread(filename) #original\n",
    "v = Visualizer(visualize(img_raw,True), [\"Face\", \"ForeHead\"])\n",
    "v.draw_instance_predictions(out_fdet[1][0])\n",
    "v.imshow(scale=0.5)"
   ]
  }
 ],
 "metadata": {
  "kernelspec": {
   "display_name": "spectronix",
   "language": "python",
   "name": "python3"
  },
  "language_info": {
   "codemirror_mode": {
    "name": "ipython",
    "version": 3
   },
   "file_extension": ".py",
   "mimetype": "text/x-python",
   "name": "python",
   "nbconvert_exporter": "python",
   "pygments_lexer": "ipython3",
   "version": "3.8.16"
  },
  "vscode": {
   "interpreter": {
    "hash": "ba26436d0f89e5af7c96d6ecfbbf38c0559f4c13d5f4475ab4ca25a3fcd59363"
   }
  }
 },
 "nbformat": 4,
 "nbformat_minor": 5
}
